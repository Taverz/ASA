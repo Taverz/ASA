{
  "cells": [
    {
      "cell_type": "markdown",
      "metadata": {
        "id": "view-in-github",
        "colab_type": "text"
      },
      "source": [
        "<a href=\"https://colab.research.google.com/github/Taverz/ASA/blob/main/story.ipynb\" target=\"_parent\"><img src=\"https://colab.research.google.com/assets/colab-badge.svg\" alt=\"Open In Colab\"/></a>"
      ]
    },
    {
      "cell_type": "code",
      "source": [
        "\n",
        "# Определение алгоритма графа в виде словаря\n",
        "story_graph = {\n",
        "    \"start\": {\n",
        "        \"description\": \"Вы находитесь в лесу и видите две тропинки.\",\n",
        "        \"choices\": {\n",
        "            \"налево\": \"left\",\n",
        "            \"направо\": \"right\"\n",
        "        }\n",
        "    },\n",
        "    \"left\": {\n",
        "        \"description\": \"Вы пошли налево и встретили волшебника.\",\n",
        "        \"choices\": {\n",
        "            \"зелье\": \"potion\",\n",
        "            \"меч\": \"sword\"\n",
        "        }\n",
        "    },\n",
        "    \"right\": {\n",
        "        \"description\": \"Вы пошли направо и встретили разбойников.\",\n",
        "        \"choices\": {\n",
        "            \"убежать\": \"escape\",\n",
        "            \"сразиться\": \"fight\"\n",
        "        }\n",
        "    },\n",
        "    \"potion\": {\n",
        "        \"description\": \"Вы выпили зелье и стали невидимыми.\",\n",
        "        \"end\": \"Конец истории: вы победили разбойников, став невидимыми.\"\n",
        "    },\n",
        "    \"sword\": {\n",
        "        \"description\": \"Вы взяли меч и победили разбойников.\",\n",
        "        \"end\": \"Конец истории: вы победили разбойников с помощью меча.\"\n",
        "    },\n",
        "    \"escape\": {\n",
        "        \"description\": \"Вы попытались убежать, но разбойники вас догнали.\",\n",
        "        \"end\": \"Конец истории: вы были пойманы разбойниками.\"\n",
        "    },\n",
        "    \"fight\": {\n",
        "        \"description\": \"Вы сразились с разбойниками и победили их.\",\n",
        "        \"end\": \"Конец истории: вы победили разбойников в бою.\"\n",
        "    }\n",
        "}\n",
        "\n",
        "\n",
        "def user_choice(node):\n",
        "    print(story_graph[node][\"description\"])\n",
        "    if \"end\" in story_graph[node]:\n",
        "        ending(story_graph[node][\"end\"])\n",
        "        return\n",
        "    choices = story_graph[node][\"choices\"]\n",
        "    for choice, next_node in choices.items():\n",
        "        print(f\"{choice.capitalize()}: {story_graph[next_node]['description']}\")\n",
        "    choice = input(\"Выберите вариант: \").lower()\n",
        "    if choice in choices:\n",
        "        user_choice(choices[choice])\n",
        "    else:\n",
        "        print(\"Неправильный выбор. Попробуйте еще раз.\")\n",
        "        user_choice(node)\n",
        "\n",
        "\n",
        "def ending(outcome):\n",
        "    print(outcome)\n",
        "    save_outcome(outcome)\n",
        "\n",
        "\n",
        "def save_outcome(outcome):\n",
        "    results = {\"итог\": outcome}\n",
        "    # with open('result.txt', 'a') as fp:\n",
        "    #   fp.write(result)\n",
        "    with open(\"story_outcome22w.txt\", \"w\") as file:\n",
        "        for key, value in results.items():\n",
        "            file.write(f\"{key}: {value}\\n\")\n",
        "    print(\"История сохранена в файл story_outcome.txt.\")\n",
        "\n",
        "\n",
        "def start_story():\n",
        "    user_choice(\"start\")\n",
        "\n",
        "\n",
        "def explore_forest():\n",
        "    items = [\"камень\", \"палка\", \"ветка\", \"листья\"]\n",
        "    for item in items:\n",
        "        print(f\"Вы нашли {item}.\")\n",
        "        if item == \"палка\":\n",
        "            print(\"Эта палка может пригодиться.\")\n",
        "            break\n",
        "\n",
        "\n",
        "start_story()\n",
        "explore_forest()"
      ],
      "metadata": {
        "id": "W7mRq_kGNl5m",
        "outputId": "b8b6e369-660c-4736-ec85-3a760fad4ec5",
        "colab": {
          "base_uri": "https://localhost:8080/"
        }
      },
      "execution_count": null,
      "outputs": [
        {
          "output_type": "stream",
          "name": "stdout",
          "text": [
            "Вы находитесь в лесу и видите две тропинки.\n",
            "Налево: Вы пошли налево и встретили волшебника.\n",
            "Направо: Вы пошли направо и встретили разбойников.\n",
            "Выберите вариант: Налево\n",
            "Вы пошли налево и встретили волшебника.\n",
            "Зелье: Вы выпили зелье и стали невидимыми.\n",
            "Меч: Вы взяли меч и победили разбойников.\n",
            "Выберите вариант: Зелье\n",
            "Вы выпили зелье и стали невидимыми.\n",
            "Конец истории: вы победили разбойников, став невидимыми.\n",
            "История сохранена в файл story_outcome.txt.\n",
            "Вы нашли камень.\n",
            "Вы нашли палка.\n",
            "Эта палка может пригодиться.\n"
          ]
        }
      ]
    }
  ],
  "metadata": {
    "colab": {
      "provenance": [],
      "toc_visible": true,
      "include_colab_link": true
    },
    "kernelspec": {
      "display_name": "Python 3",
      "name": "python3"
    }
  },
  "nbformat": 4,
  "nbformat_minor": 0
}